{
 "cells": [
  {
   "cell_type": "code",
   "execution_count": null,
   "metadata": {},
   "outputs": [],
   "source": [
    "import pandas as pd\n",
    "import numpy as np\n",
    "from data_quality_tests import DataQuality as dq"
   ]
  },
  {
   "attachments": {},
   "cell_type": "markdown",
   "metadata": {},
   "source": [
    "<h3>Limpeza e ajustes dos dados<h3>"
   ]
  },
  {
   "cell_type": "code",
   "execution_count": null,
   "metadata": {},
   "outputs": [],
   "source": [
    "# Carregar os dados\n",
    "df = pd.read_csv('Telco-Customer-Churn.csv')"
   ]
  },
  {
   "cell_type": "code",
   "execution_count": null,
   "metadata": {},
   "outputs": [],
   "source": [
    "# Verificar colunas e as primeiras linhas dos dados\n",
    "df.head().T"
   ]
  },
  {
   "attachments": {},
   "cell_type": "markdown",
   "metadata": {},
   "source": [
    "O data set inclui informações sobre:\n",
    "\n",
    "- Clientes que saíram no último mês: coluna Churn\n",
    "- Serviços que cada cliente se inscreveu: telefone, várias linhas, internet, segurança online, backup online, proteção de dispositivos, suporte técnico e streaming de TV e filmes\n",
    "- Informações da conta do cliente: há quanto tempo ele é cliente, contrato, método de pagamento, cobrança sem papel, cobranças mensais e cobranças totais\n",
    "- Informações demográficas sobre os clientes – sexo, faixa etária e se têm parceiros e dependentes"
   ]
  },
  {
   "cell_type": "code",
   "execution_count": null,
   "metadata": {},
   "outputs": [],
   "source": [
    "# Verificação das dimensões do dataset\n",
    "df.shape"
   ]
  },
  {
   "cell_type": "code",
   "execution_count": null,
   "metadata": {},
   "outputs": [],
   "source": [
    "# Checando qualidade com a biblioteca DataQuality\n",
    "dq.data_quality_check(df)"
   ]
  },
  {
   "cell_type": "code",
   "execution_count": null,
   "metadata": {},
   "outputs": [],
   "source": [
    "# Verificar informações sobre as colunas e tipos de dados\n",
    "df.info()"
   ]
  },
  {
   "cell_type": "code",
   "execution_count": null,
   "metadata": {},
   "outputs": [],
   "source": [
    "#Converter o tipo de dado de TotalCharges para Numérico \n",
    "df.TotalCharges = pd.to_numeric(df.TotalCharges, errors='coerce')"
   ]
  },
  {
   "cell_type": "code",
   "execution_count": null,
   "metadata": {},
   "outputs": [],
   "source": [
    "#Verificar valores nulos\n",
    "df.isnull().sum()"
   ]
  },
  {
   "cell_type": "code",
   "execution_count": null,
   "metadata": {},
   "outputs": [],
   "source": [
    "#Remover nulos\n",
    "df.dropna(inplace = True)"
   ]
  },
  {
   "cell_type": "code",
   "execution_count": null,
   "metadata": {},
   "outputs": [],
   "source": [
    "dq.data_quality_check(df)"
   ]
  },
  {
   "cell_type": "code",
   "execution_count": null,
   "metadata": {},
   "outputs": [],
   "source": [
    "#Identificar Outliers\n",
    "dq.outlier_columns(df)"
   ]
  },
  {
   "cell_type": "code",
   "execution_count": null,
   "metadata": {},
   "outputs": [],
   "source": [
    "import plotly.express as px\n",
    "fig = px.box(df, y=\"tenure\")\n",
    "fig.show()"
   ]
  },
  {
   "cell_type": "code",
   "execution_count": null,
   "metadata": {},
   "outputs": [],
   "source": [
    "fig = px.box(df, y=\"MonthlyCharges\")\n",
    "fig.show()"
   ]
  },
  {
   "cell_type": "code",
   "execution_count": null,
   "metadata": {},
   "outputs": [],
   "source": [
    "fig = px.box(df, y=\"TotalCharges\")\n",
    "fig.show()"
   ]
  },
  {
   "attachments": {},
   "cell_type": "markdown",
   "metadata": {},
   "source": [
    "Nos graficós acima podemos ver que os outliers não são significativos, pois não aparecem explicitamente no gráfico. "
   ]
  },
  {
   "cell_type": "code",
   "execution_count": null,
   "metadata": {},
   "outputs": [],
   "source": [
    "df.describe()"
   ]
  },
  {
   "cell_type": "code",
   "execution_count": null,
   "metadata": {},
   "outputs": [],
   "source": [
    "import plotly.graph_objs as go\n",
    "from plotly.subplots import make_subplots\n",
    "\n",
    "fig = make_subplots(rows=1, cols=3, subplot_titles=(\"Monthly Charges\", \"Total Charges\", \"Tenure\"))\n",
    "\n",
    "trace1 = go.Histogram(x=df['MonthlyCharges'])\n",
    "trace2 = go.Histogram(x=df['TotalCharges'])\n",
    "trace3 = go.Histogram(x=df['tenure'])\n",
    "\n",
    "\n",
    "\n",
    "fig.add_trace(trace1, row=1, col=1)\n",
    "fig.add_trace(trace2, row=1, col=2)\n",
    "fig.add_trace(trace3, row=1, col=3)\n",
    "\n",
    "fig.update_layout(height=400, width=1000)\n",
    "\n",
    "fig.show()"
   ]
  },
  {
   "attachments": {},
   "cell_type": "markdown",
   "metadata": {},
   "source": [
    "Temos que levar em consideração que nenhuma das 3 colunas é normalmente distribuída\n",
    "<br>Monthly Charges: muitas contas mensais com valores baixos. Automaticamente o Total Charges terá também contas com valores totais baixos.\n",
    "<br>Tenure: quantidade de meses que o cliente está na empresa. Muitos clientes novos, mas também uma quantidade de clientes que pernaneceram na empresa por mais de 70 meses.\n",
    "<br>Em resumo, não devemos nos preocupar com as anomalias apontadas pela biblioteca dataQuality"
   ]
  },
  {
   "attachments": {},
   "cell_type": "markdown",
   "metadata": {},
   "source": [
    "<h3>Análise Exploratória dos Dados<h3>"
   ]
  },
  {
   "attachments": {},
   "cell_type": "markdown",
   "metadata": {},
   "source": [
    "Verificando os dados demográficos dos clientes"
   ]
  },
  {
   "cell_type": "code",
   "execution_count": null,
   "metadata": {},
   "outputs": [],
   "source": [
    "df['gender'].value_counts()*100/len(df)"
   ]
  },
  {
   "attachments": {},
   "cell_type": "markdown",
   "metadata": {},
   "source": [
    "A distribuição do gêneros dos clientes é bem dividida"
   ]
  },
  {
   "cell_type": "code",
   "execution_count": null,
   "metadata": {},
   "outputs": [],
   "source": [
    "df['SeniorCitizen'].value_counts()*100/len(df)"
   ]
  },
  {
   "attachments": {},
   "cell_type": "markdown",
   "metadata": {},
   "source": [
    "A maior parte dos clientes são jovens. Apenas 16% dos clientes são idosos."
   ]
  },
  {
   "cell_type": "code",
   "execution_count": null,
   "metadata": {},
   "outputs": [],
   "source": [
    "df['Partner'].value_counts()*100/len(df)"
   ]
  },
  {
   "attachments": {},
   "cell_type": "markdown",
   "metadata": {},
   "source": [
    "48% dos clientes tem parceiro"
   ]
  },
  {
   "cell_type": "code",
   "execution_count": null,
   "metadata": {},
   "outputs": [],
   "source": [
    "df['Dependents'].value_counts()*100/len(df)"
   ]
  },
  {
   "attachments": {},
   "cell_type": "markdown",
   "metadata": {},
   "source": [
    "enquanto 30% dos clientes tem dependentes"
   ]
  },
  {
   "cell_type": "code",
   "execution_count": null,
   "metadata": {},
   "outputs": [],
   "source": [
    "partner_dependents = df.groupby(['Partner','Dependents']).size().unstack()\n",
    "partner_dependents_percent = (partner_dependents.T*100.0 / partner_dependents.T.sum()).T\n",
    "\n",
    "partner_dependents_percent_str = partner_dependents_percent.applymap('{:.2f}%'.format)\n",
    "\n",
    "partner_dependents_percent_str.style"
   ]
  },
  {
   "attachments": {},
   "cell_type": "markdown",
   "metadata": {},
   "source": [
    "Entre os clientes que possuim parceiro, apenas metade deles também possui dependente. E, como esperado, dos cliente sem parceiro 90% não possui dependentes."
   ]
  },
  {
   "cell_type": "code",
   "execution_count": null,
   "metadata": {},
   "outputs": [],
   "source": [
    "df['Contract'].value_counts()*100/len(df)"
   ]
  },
  {
   "attachments": {},
   "cell_type": "markdown",
   "metadata": {},
   "source": [
    "A maioria dos clientes estão com contratos mensais. "
   ]
  },
  {
   "cell_type": "code",
   "execution_count": null,
   "metadata": {},
   "outputs": [],
   "source": [
    "df.columns"
   ]
  },
  {
   "cell_type": "code",
   "execution_count": null,
   "metadata": {},
   "outputs": [],
   "source": [
    "#Verificar distribuição de Serviços \n",
    "dfs = []\n",
    "services = ['PhoneService','MultipleLines','InternetService','OnlineSecurity',\n",
    "           'OnlineBackup','DeviceProtection','TechSupport','StreamingTV','StreamingMovies']\n",
    "\n",
    "for item in services:\n",
    "\n",
    "    value_counts = df[item].value_counts()*100/len(df)\n",
    "\n",
    "    df2 = pd.DataFrame({'value': value_counts.index, 'count': value_counts.values})\n",
    "    df2.rename(columns={'count': item}, inplace=True)\n",
    "    dfs.append(df2)\n",
    "\n",
    "\n",
    "table = pd.concat(dfs, axis=1)\n",
    "\n",
    "table = table.sort_index()\n",
    "\n",
    "print(table)"
   ]
  },
  {
   "attachments": {},
   "cell_type": "markdown",
   "metadata": {},
   "source": [
    "<h4>Distribuição da variável target Churn</h4>"
   ]
  },
  {
   "cell_type": "code",
   "execution_count": null,
   "metadata": {},
   "outputs": [],
   "source": [
    "df.Churn.value_counts()"
   ]
  },
  {
   "attachments": {},
   "cell_type": "markdown",
   "metadata": {},
   "source": [
    "Comparar variáveis categórias com variável target Churn"
   ]
  },
  {
   "cell_type": "code",
   "execution_count": null,
   "metadata": {},
   "outputs": [],
   "source": [
    "#Função para comparar váriáveis categóricas com variável target Churn\n",
    "def categorical_vs_churn(column):\n",
    "    table = df.groupby([column])['Churn'].value_counts().unstack().divide(df.groupby([column])['Churn'].value_counts().unstack().sum(axis=1),axis=0)*100\n",
    "    table = table.applymap(\"{:.2f}%\".format)\n",
    "    return table"
   ]
  },
  {
   "attachments": {},
   "cell_type": "markdown",
   "metadata": {},
   "source": [
    "Gender vs Churn"
   ]
  },
  {
   "cell_type": "code",
   "execution_count": null,
   "metadata": {},
   "outputs": [],
   "source": [
    "categorical_vs_churn('gender')"
   ]
  },
  {
   "attachments": {},
   "cell_type": "markdown",
   "metadata": {},
   "source": [
    "Senior Citzen vs Churn"
   ]
  },
  {
   "cell_type": "code",
   "execution_count": null,
   "metadata": {},
   "outputs": [],
   "source": [
    "categorical_vs_churn('SeniorCitizen')"
   ]
  },
  {
   "attachments": {},
   "cell_type": "markdown",
   "metadata": {},
   "source": [
    "Partner vs Churn"
   ]
  },
  {
   "cell_type": "code",
   "execution_count": null,
   "metadata": {},
   "outputs": [],
   "source": [
    "categorical_vs_churn('Partner')"
   ]
  },
  {
   "attachments": {},
   "cell_type": "markdown",
   "metadata": {},
   "source": [
    "Dependents vs Churn"
   ]
  },
  {
   "cell_type": "code",
   "execution_count": null,
   "metadata": {},
   "outputs": [],
   "source": [
    "categorical_vs_churn('Dependents')"
   ]
  },
  {
   "attachments": {},
   "cell_type": "markdown",
   "metadata": {},
   "source": [
    "Phone service vs Churn"
   ]
  },
  {
   "cell_type": "code",
   "execution_count": null,
   "metadata": {},
   "outputs": [],
   "source": [
    "categorical_vs_churn('PhoneService')"
   ]
  },
  {
   "attachments": {},
   "cell_type": "markdown",
   "metadata": {},
   "source": [
    "Multiple lines vs Churn"
   ]
  },
  {
   "cell_type": "code",
   "execution_count": null,
   "metadata": {},
   "outputs": [],
   "source": [
    "categorical_vs_churn('MultipleLines')"
   ]
  },
  {
   "attachments": {},
   "cell_type": "markdown",
   "metadata": {},
   "source": [
    "Internet Service vs Churn"
   ]
  },
  {
   "cell_type": "code",
   "execution_count": null,
   "metadata": {},
   "outputs": [],
   "source": [
    "categorical_vs_churn('InternetService')"
   ]
  },
  {
   "attachments": {},
   "cell_type": "markdown",
   "metadata": {},
   "source": [
    "Online Security vs Churn"
   ]
  },
  {
   "cell_type": "code",
   "execution_count": null,
   "metadata": {},
   "outputs": [],
   "source": [
    "categorical_vs_churn('OnlineSecurity')"
   ]
  },
  {
   "attachments": {},
   "cell_type": "markdown",
   "metadata": {},
   "source": [
    "Online Backup vc Churn"
   ]
  },
  {
   "cell_type": "code",
   "execution_count": null,
   "metadata": {},
   "outputs": [],
   "source": [
    "categorical_vs_churn('OnlineBackup')"
   ]
  },
  {
   "attachments": {},
   "cell_type": "markdown",
   "metadata": {},
   "source": [
    "Device protection vs Churn"
   ]
  },
  {
   "cell_type": "code",
   "execution_count": null,
   "metadata": {},
   "outputs": [],
   "source": [
    "categorical_vs_churn('DeviceProtection')"
   ]
  },
  {
   "attachments": {},
   "cell_type": "markdown",
   "metadata": {},
   "source": [
    "Tech Support vs Churn\n"
   ]
  },
  {
   "cell_type": "code",
   "execution_count": null,
   "metadata": {},
   "outputs": [],
   "source": [
    "categorical_vs_churn('TechSupport')"
   ]
  },
  {
   "attachments": {},
   "cell_type": "markdown",
   "metadata": {},
   "source": [
    "Streaming TV vs Churn"
   ]
  },
  {
   "cell_type": "code",
   "execution_count": null,
   "metadata": {},
   "outputs": [],
   "source": [
    "categorical_vs_churn('StreamingTV')"
   ]
  },
  {
   "attachments": {},
   "cell_type": "markdown",
   "metadata": {},
   "source": [
    "Streaming Movies vs churn"
   ]
  },
  {
   "cell_type": "code",
   "execution_count": null,
   "metadata": {},
   "outputs": [],
   "source": [
    "categorical_vs_churn('StreamingMovies')"
   ]
  },
  {
   "attachments": {},
   "cell_type": "markdown",
   "metadata": {},
   "source": [
    "Contract vs Churn"
   ]
  },
  {
   "cell_type": "code",
   "execution_count": null,
   "metadata": {},
   "outputs": [],
   "source": [
    "categorical_vs_churn('Contract')"
   ]
  },
  {
   "attachments": {},
   "cell_type": "markdown",
   "metadata": {},
   "source": [
    "Paperless billing vs churn"
   ]
  },
  {
   "cell_type": "code",
   "execution_count": null,
   "metadata": {},
   "outputs": [],
   "source": [
    "categorical_vs_churn('PaperlessBilling')"
   ]
  },
  {
   "attachments": {},
   "cell_type": "markdown",
   "metadata": {},
   "source": [
    "Payment method vs churn"
   ]
  },
  {
   "cell_type": "code",
   "execution_count": null,
   "metadata": {},
   "outputs": [],
   "source": [
    "categorical_vs_churn('PaymentMethod')"
   ]
  },
  {
   "attachments": {},
   "cell_type": "markdown",
   "metadata": {},
   "source": [
    "Comparar váriáveis numéricas com variável target Churn"
   ]
  },
  {
   "cell_type": "code",
   "execution_count": null,
   "metadata": {},
   "outputs": [],
   "source": [
    "df['MonthlyChargesBucket'] = pd.cut(df['MonthlyCharges'], bins=range(0, 121, 20), right=False)\n",
    "\n",
    "freq_table = pd.crosstab(df['MonthlyChargesBucket'], df['Churn'])\n",
    "freq_table"
   ]
  },
  {
   "cell_type": "code",
   "execution_count": null,
   "metadata": {},
   "outputs": [],
   "source": [
    "df['TotalChargesBucket'] = pd.cut(df['TotalCharges'], bins=range(0, 9000, 1000), right=False)\n",
    "\n",
    "# Criando a tabela de frequência\n",
    "freq_table = pd.crosstab(df['TotalChargesBucket'], df['Churn'])\n",
    "freq_table"
   ]
  },
  {
   "cell_type": "code",
   "execution_count": null,
   "metadata": {},
   "outputs": [],
   "source": [
    "df['TenureBucket'] = pd.cut(df['tenure'], bins=range(0, 80, 5), right=False)\n",
    "\n",
    "# Criando a tabela de frequência\n",
    "freq_table = pd.crosstab(df['TenureBucket'], df['Churn'])\n",
    "freq_table"
   ]
  },
  {
   "attachments": {},
   "cell_type": "markdown",
   "metadata": {},
   "source": [
    "<h4>Probabilidade de churn</h4>\n",
    "Gender: sem efeitos<br>\n",
    "SeniorCitizen: idosos são mais propensos a churn<br>\n",
    "Partner/Dependent: clientes com parceiros/dependentes são menos propensos a churn<br>\n",
    "PhoneService: sem efeitos<br>\n",
    "MultipleLines: clientes com múltiplas linhas são mais propensos a churn<br>\n",
    "InternetService: clientes com fibra óptica são mais propensos a churn e clientes com DSL são mais propensos a churn do que aqueles sem serviço de internet<br>\n",
    "OnlineSecurity/OnlineBackup/DeviceProtection/TechSupport: clientes sem esses serviços são mais propensas a churn<br>\n",
    "StreamingTV/StreamingMovies: sem efeito<br>\n",
    "Contract: clientes com contratos mensais são mais propensas a churn. Clientes com contrato de 2 anos são menos propensas a churn<br>\n",
    "PaperlessBilling: clientes que adotam a fatura digital estão mais propensos a churn<br>\n",
    "PaymentMethod: clientes que efetuam pagamentos com electronic check são mais propensos a churn<br>\n",
    "\n",
    "Tenure: quanto mais tempo o cliente permanece no provedor, menor a  propensão a churn<br>\n",
    "MonthlyCharges: à medida que as cobranças mensais aumentam, a probabilidade de churn aumenta gradativamente<br>\n",
    "TotalCharges: conforme as cobranças totais aumentam, a probabilidade de churn diminui. Provavelmente por conta do \"Tenure\""
   ]
  },
  {
   "attachments": {},
   "cell_type": "markdown",
   "metadata": {},
   "source": [
    "<h3>Preparar Dados para ML</h3>"
   ]
  },
  {
   "cell_type": "code",
   "execution_count": null,
   "metadata": {},
   "outputs": [],
   "source": [
    "df.columns"
   ]
  },
  {
   "cell_type": "code",
   "execution_count": null,
   "metadata": {},
   "outputs": [],
   "source": [
    "#deletar colunas que não vamos usar\n",
    "df = df.drop(columns=['customerID','gender','PhoneService','MultipleLines','TotalCharges','SeniorCitizen','Partner','Dependents','PaperlessBilling','MonthlyChargesBucket', 'TotalChargesBucket', 'TenureBucket'], axis=1)"
   ]
  },
  {
   "attachments": {},
   "cell_type": "markdown",
   "metadata": {},
   "source": [
    "Alterar variáveis categóricas em númericas"
   ]
  },
  {
   "cell_type": "code",
   "execution_count": null,
   "metadata": {},
   "outputs": [],
   "source": [
    "df['Churn'] = df['Churn'].replace({'No':0,'Yes':1})"
   ]
  },
  {
   "cell_type": "code",
   "execution_count": null,
   "metadata": {},
   "outputs": [],
   "source": [
    "y = df['Churn']\n",
    "x = df.drop('Churn', axis = 1)"
   ]
  },
  {
   "cell_type": "code",
   "execution_count": null,
   "metadata": {},
   "outputs": [],
   "source": [
    "x = pd.get_dummies(x)"
   ]
  },
  {
   "cell_type": "code",
   "execution_count": null,
   "metadata": {},
   "outputs": [],
   "source": [
    "x.head()"
   ]
  },
  {
   "cell_type": "code",
   "execution_count": null,
   "metadata": {},
   "outputs": [],
   "source": [
    "df.Churn.value_counts()"
   ]
  },
  {
   "attachments": {},
   "cell_type": "markdown",
   "metadata": {},
   "source": [
    "Variável target desbalanceada. Há mais clientes que não cancelaram os serviços do que clientes que cancelaram."
   ]
  },
  {
   "cell_type": "code",
   "execution_count": null,
   "metadata": {},
   "outputs": [],
   "source": [
    "from sklearn.model_selection import train_test_split\n",
    "from sklearn.preprocessing import StandardScaler\n",
    "from sklearn.linear_model import LogisticRegression\n",
    "from sklearn.tree import DecisionTreeClassifier\n",
    "from sklearn.ensemble import RandomForestClassifier, GradientBoostingClassifier, AdaBoostClassifier\n",
    "from sklearn.metrics import accuracy_score, precision_score, recall_score, f1_score, confusion_matrix, roc_auc_score"
   ]
  },
  {
   "cell_type": "code",
   "execution_count": null,
   "metadata": {},
   "outputs": [],
   "source": [
    "# Dividir conjunto de dados em treinamento e teste\n",
    "x_train, x_test, y_train, y_test = train_test_split(x, y, test_size=0.3, random_state=42)\n",
    "# verificar tamanho dos datasets de treino e teste\n",
    "print(\"X train\", x_train.shape)\n",
    "print(\"Y train\", y_train.shape)\n",
    "print(\"X test\", x_test.shape)\n",
    "print(\"Y test\", y_test.shape)\n"
   ]
  },
  {
   "cell_type": "code",
   "execution_count": null,
   "metadata": {},
   "outputs": [],
   "source": [
    "y_train.value_counts()"
   ]
  },
  {
   "cell_type": "code",
   "execution_count": null,
   "metadata": {},
   "outputs": [],
   "source": [
    "from tabulate import tabulate\n",
    "\n",
    "# Modelos a serem avaliados\n",
    "models = {'Logistic Regression': LogisticRegression(max_iter=1000),\n",
    "          'Decision Tree': DecisionTreeClassifier(),\n",
    "          'Random Forest': RandomForestClassifier(),\n",
    "          'Gradient Boosting': GradientBoostingClassifier(),\n",
    "           'Ada Boosting': AdaBoostClassifier()}\n",
    "\n",
    "\n",
    "results = []\n",
    "\n",
    "for model_name, model in models.items():\n",
    "    model.fit(x_train, y_train)\n",
    "    y_pred = model.predict(x_test)\n",
    "    results.append([model_name,\n",
    "                    accuracy_score(y_test, y_pred),\n",
    "                    precision_score(y_test, y_pred),\n",
    "                    recall_score(y_test, y_pred),\n",
    "                    f1_score(y_test, y_pred),\n",
    "                    confusion_matrix(y_test, y_pred),\n",
    "                    roc_auc_score(y_test, y_pred)])\n",
    "\n",
    "# Tabela com os resultados\n",
    "headers = ['Model', 'Accuracy Score', 'Precision Score', 'Recall Score', 'F1 Score', 'Confusion Matrix', 'AUC-ROC']\n",
    "table = tabulate(results, headers=headers)\n",
    "\n",
    "print(table)"
   ]
  },
  {
   "attachments": {},
   "cell_type": "markdown",
   "metadata": {},
   "source": [
    "O modelo que obteve o melhor resultado foi o de <u>Logistic Regression</u>"
   ]
  },
  {
   "attachments": {},
   "cell_type": "markdown",
   "metadata": {},
   "source": [
    "Aplicar modelo de Logistic Regression nos dados"
   ]
  },
  {
   "cell_type": "code",
   "execution_count": null,
   "metadata": {},
   "outputs": [],
   "source": [
    "model = LogisticRegression()\n",
    "# Treino\n",
    "model.fit(x_train, y_train)\n",
    "\n",
    "# Previsões no conjunto de teste\n",
    "y_pred = model.predict(x_test)\n"
   ]
  },
  {
   "attachments": {},
   "cell_type": "markdown",
   "metadata": {},
   "source": [
    "Aplicando novos dados e exibindo as predições"
   ]
  },
  {
   "cell_type": "code",
   "execution_count": null,
   "metadata": {},
   "outputs": [],
   "source": [
    "new_data = pd.read_csv('novos_dados.csv', sep=';')\n",
    "\n",
    "new_data = new_data.drop(columns=['gender','PhoneService','MultipleLines','TotalCharges','SeniorCitizen','Partner','Dependents','PaperlessBilling'], axis=1)\n",
    "new_data.dropna(inplace = True)\n",
    "\n",
    "# Codificar as variáveis categóricas, excluindo o id do cliente\n",
    "data_encoded = pd.get_dummies(new_data.iloc[:, 1:])\n",
    "\n",
    "# Aplicando o modelo para extrair as predições\n",
    "predictions = pd.DataFrame(model.predict(data_encoded),columns=['Churn Prediction'])\n",
    "\n",
    "# Concatenar o ID do cliente com as previsões\n",
    "combined_df = pd.concat([new_data, predictions], axis=1)\n",
    "combined_df['Churn Prediction'] = combined_df['Churn Prediction']\n",
    "combined_df['Churn Prediction'] = combined_df['Churn Prediction'].replace({0:'No', 1:'Yes'})\n",
    "\n",
    "\n",
    "print(combined_df)\n",
    "combined_df.to_csv('predicoes.csv', index=False)\n"
   ]
  }
 ],
 "metadata": {
  "kernelspec": {
   "display_name": "base",
   "language": "python",
   "name": "python3"
  },
  "language_info": {
   "codemirror_mode": {
    "name": "ipython",
    "version": 3
   },
   "file_extension": ".py",
   "mimetype": "text/x-python",
   "name": "python",
   "nbconvert_exporter": "python",
   "pygments_lexer": "ipython3",
   "version": "3.9.7"
  },
  "orig_nbformat": 4,
  "vscode": {
   "interpreter": {
    "hash": "924e7abb25f3a2f3116bc952fd1257200f35f098fba3b1ad40f449ccbaac05be"
   }
  }
 },
 "nbformat": 4,
 "nbformat_minor": 2
}
